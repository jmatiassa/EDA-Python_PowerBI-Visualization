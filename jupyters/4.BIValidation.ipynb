{
 "cells": [
  {
   "cell_type": "markdown",
   "metadata": {},
   "source": [
    "## Validation of distributions and metrics"
   ]
  },
  {
   "cell_type": "code",
   "execution_count": 1,
   "metadata": {},
   "outputs": [],
   "source": [
    "# Imports\n",
    "import pandas as pd"
   ]
  },
  {
   "cell_type": "code",
   "execution_count": 9,
   "metadata": {},
   "outputs": [],
   "source": [
    "df_validation= pd.read_csv(\"../data/Sales_BI.csv\",usecols=lambda col:not col.startswith(\"Unnamed\"))"
   ]
  },
  {
   "cell_type": "code",
   "execution_count": 11,
   "metadata": {},
   "outputs": [],
   "source": [
    "#Validation of Distribution of Product category by gross margin per unit\n",
    "df_validation[\"Avg Unit Margin\"]=1-(df_validation[\"Unit Cost (€)\"]/df_validation[\"Unit Price\"])"
   ]
  },
  {
   "cell_type": "code",
   "execution_count": 17,
   "metadata": {},
   "outputs": [
    {
     "data": {
      "text/plain": [
       "Product Category\n",
       "Accessories               0.481488\n",
       "Batteries                 0.405020\n",
       "Computer Monitors         0.250679\n",
       "Headphones and Earbuds    0.323793\n",
       "Home Appliances           0.250000\n",
       "Laptops and Computers     0.265465\n",
       "Smartphones               0.305988\n",
       "Televisions               0.166667\n",
       "Name: Avg Unit Margin, dtype: float64"
      ]
     },
     "execution_count": 17,
     "metadata": {},
     "output_type": "execute_result"
    }
   ],
   "source": [
    "df_validation.groupby(\"Product Category\")[\"Avg Unit Margin\"].mean()"
   ]
  },
  {
   "cell_type": "code",
   "execution_count": 10,
   "metadata": {},
   "outputs": [
    {
     "data": {
      "text/plain": [
       "Index(['Order ID', 'Product', 'Quantity Ordered', 'Order Date',\n",
       "       'Purchase Address', 'Month', 'Sales', 'Hour', 'Unit Price',\n",
       "       'Address_Number', 'Address_Street', 'Address_City', 'Address_State',\n",
       "       'Address_Zip_Code', 'Product Category', 'Unit Cost (€)', 'State'],\n",
       "      dtype='object')"
      ]
     },
     "execution_count": 10,
     "metadata": {},
     "output_type": "execute_result"
    }
   ],
   "source": [
    "df_validation.columns"
   ]
  },
  {
   "cell_type": "code",
   "execution_count": null,
   "metadata": {},
   "outputs": [],
   "source": []
  }
 ],
 "metadata": {
  "kernelspec": {
   "display_name": "eda_python_bi_venv",
   "language": "python",
   "name": "python3"
  },
  "language_info": {
   "codemirror_mode": {
    "name": "ipython",
    "version": 3
   },
   "file_extension": ".py",
   "mimetype": "text/x-python",
   "name": "python",
   "nbconvert_exporter": "python",
   "pygments_lexer": "ipython3",
   "version": "3.13.0"
  }
 },
 "nbformat": 4,
 "nbformat_minor": 2
}
