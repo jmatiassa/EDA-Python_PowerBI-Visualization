{
 "cells": [
  {
   "cell_type": "markdown",
   "metadata": {},
   "source": [
    "Before representing data into a bi platform there is going to be analised the relative impact of independent variables on sales."
   ]
  },
  {
   "cell_type": "markdown",
   "metadata": {},
   "source": [
    "ANOVA analysis of the categorical variables"
   ]
  },
  {
   "cell_type": "code",
   "execution_count": 80,
   "metadata": {},
   "outputs": [],
   "source": [
    "#Import libraries\n",
    "import pandas as pd\n",
    "import scipy.stats as stats\n",
    "\n",
    "#Import src\n",
    "import sys\n",
    "sys.path.append(\"..\")\n",
    "from src import src_transforming as ep"
   ]
  },
  {
   "cell_type": "code",
   "execution_count": 81,
   "metadata": {},
   "outputs": [],
   "source": [
    "df_stats=pd.read_csv('../data/DataMerged.csv',usecols=lambda col:not col.startswith('Unnamed'))"
   ]
  },
  {
   "cell_type": "code",
   "execution_count": 82,
   "metadata": {},
   "outputs": [
    {
     "data": {
      "text/plain": [
       "Index(['Order ID', 'Product', 'Quantity Ordered', 'Order Date',\n",
       "       'Purchase Address', 'Month', 'Sales', 'Hour', 'Unit Price',\n",
       "       'Address_Number', 'Address_Street', 'Address_City', 'Address_State',\n",
       "       'Address_Zip_Code', 'Product Category', 'Unit Cost (€)', 'Sate'],\n",
       "      dtype='object')"
      ]
     },
     "execution_count": 82,
     "metadata": {},
     "output_type": "execute_result"
    }
   ],
   "source": [
    "df_stats.columns"
   ]
  },
  {
   "cell_type": "code",
   "execution_count": 83,
   "metadata": {},
   "outputs": [
    {
     "data": {
      "text/plain": [
       "Index(['Order ID', 'Product', 'Quantity Ordered', 'Order Date',\n",
       "       'Purchase Address', 'Month', 'Sales', 'Hour', 'Unit Price',\n",
       "       'Address_Number', 'Address_Street', 'Address_City', 'Address_State',\n",
       "       'Address_Zip_Code', 'Product Category', 'Unit Cost (€)', 'State'],\n",
       "      dtype='object')"
      ]
     },
     "metadata": {},
     "output_type": "display_data"
    }
   ],
   "source": [
    "#Change column name from Sate to State\n",
    "ep.change_column_name(df_stats,'Sate','State')"
   ]
  },
  {
   "cell_type": "code",
   "execution_count": 84,
   "metadata": {},
   "outputs": [
    {
     "name": "stdout",
     "output_type": "stream",
     "text": [
      "<class 'pandas.core.frame.DataFrame'>\n",
      "RangeIndex: 185950 entries, 0 to 185949\n",
      "Data columns (total 17 columns):\n",
      " #   Column            Non-Null Count   Dtype  \n",
      "---  ------            --------------   -----  \n",
      " 0   Order ID          185950 non-null  int64  \n",
      " 1   Product           185950 non-null  object \n",
      " 2   Quantity Ordered  185950 non-null  int64  \n",
      " 3   Order Date        185950 non-null  object \n",
      " 4   Purchase Address  185950 non-null  object \n",
      " 5   Month             185950 non-null  int64  \n",
      " 6   Sales             185950 non-null  float64\n",
      " 7   Hour              185950 non-null  int64  \n",
      " 8   Unit Price        185950 non-null  float64\n",
      " 9   Address_Number    185950 non-null  int64  \n",
      " 10  Address_Street    185950 non-null  object \n",
      " 11  Address_City      185950 non-null  object \n",
      " 12  Address_State     185950 non-null  object \n",
      " 13  Address_Zip_Code  185950 non-null  int64  \n",
      " 14  Product Category  185950 non-null  object \n",
      " 15  Unit Cost (€)     185950 non-null  int64  \n",
      " 16  State             185950 non-null  object \n",
      "dtypes: float64(2), int64(7), object(8)\n",
      "memory usage: 24.1+ MB\n"
     ]
    }
   ],
   "source": [
    "df_stats.info()"
   ]
  },
  {
   "cell_type": "code",
   "execution_count": 85,
   "metadata": {},
   "outputs": [],
   "source": [
    "# Lista de variables categóricas\n",
    "columns = ['Product', 'Month', 'Hour', 'Address_City', 'State', 'Address_Zip_Code', 'Product Category']\n",
    "def anova_stats(df,categorical_vars):\n",
    "    # Diccionario para almacenar los resultados de ANOVA\n",
    "    anova_results = []\n",
    "\n",
    "    # Iterar sobre cada variable categórica y calcular ANOVA\n",
    "    for var in categorical_vars:\n",
    "        groups = [df[df[var] == cat]['Sales'] for cat in df[var].unique()]\n",
    "        \n",
    "        # Realizar ANOVA solo si hay al menos dos categorías con datos\n",
    "        if len(groups) > 1:\n",
    "            f_stat, p_value = stats.f_oneway(*groups)\n",
    "            significance = \"Significant\" if p_value < 0.05 else \"Not Significant\"\n",
    "            anova_results.append([var, p_value, significance])\n",
    "\n",
    "    # Convertir resultados en DataFrame y mostrar\n",
    "    anova_df = pd.DataFrame(anova_results, columns=['Variable', 'p-value', 'Significance'])\n",
    "    print(anova_df)"
   ]
  },
  {
   "cell_type": "code",
   "execution_count": 86,
   "metadata": {},
   "outputs": [
    {
     "name": "stdout",
     "output_type": "stream",
     "text": [
      "           Variable   p-value     Significance\n",
      "0           Product  0.000000      Significant\n",
      "1             Month  0.342207  Not Significant\n",
      "2              Hour  0.019383      Significant\n",
      "3      Address_City  0.887222  Not Significant\n",
      "4             State  0.851620  Not Significant\n",
      "5  Address_Zip_Code  0.918387  Not Significant\n",
      "6  Product Category  0.000000      Significant\n"
     ]
    }
   ],
   "source": [
    "anova_stats(df_stats,columns)"
   ]
  },
  {
   "cell_type": "markdown",
   "metadata": {},
   "source": [
    "Conclussions of the analysis:\n",
    "- The type of product, product category and Hour have significative impact on the sales. Analysing these variables may have impact on optimizing the revenue"
   ]
  },
  {
   "cell_type": "code",
   "execution_count": null,
   "metadata": {},
   "outputs": [],
   "source": []
  },
  {
   "cell_type": "markdown",
   "metadata": {},
   "source": [
    "Dashboard design: This metrics are going to be calculated in Power Bi so that there can be skills proved in both analytical tools. However, it will be calculated in Pyton to validate the results. \n",
    "KPI: \n",
    "\n",
    "- Revenue\n",
    "- Adquisition Cost\n",
    "- Gross Margin\n",
    "- Nº Unts Sold\n",
    "- Avg Revenue per Unit\n",
    "- Avg Margin per Unit\n",
    "- Nº States\n",
    "- Nº Cities\n",
    "\n",
    "Distributions:\n",
    "\n",
    "- Temporal Evolution of Revenue and Gross Profit\n",
    "- Hourly Distribution of Revenue and Gross Profit\n",
    "- Distribution of Product category by Revenue and Gross Profit\n",
    "- Distribution of Product by Revenue and Gross Profit\n",
    "- Geographical distribution of Revenue and Gross Profit\n",
    "- Revenue and Gross Profit Map"
   ]
  },
  {
   "cell_type": "markdown",
   "metadata": {},
   "source": [
    "## Metrics"
   ]
  },
  {
   "cell_type": "code",
   "execution_count": 87,
   "metadata": {},
   "outputs": [
    {
     "data": {
      "text/html": [
       "<div>\n",
       "<style scoped>\n",
       "    .dataframe tbody tr th:only-of-type {\n",
       "        vertical-align: middle;\n",
       "    }\n",
       "\n",
       "    .dataframe tbody tr th {\n",
       "        vertical-align: top;\n",
       "    }\n",
       "\n",
       "    .dataframe thead th {\n",
       "        text-align: right;\n",
       "    }\n",
       "</style>\n",
       "<table border=\"1\" class=\"dataframe\">\n",
       "  <thead>\n",
       "    <tr style=\"text-align: right;\">\n",
       "      <th></th>\n",
       "      <th>Order ID</th>\n",
       "      <th>Product</th>\n",
       "      <th>Quantity Ordered</th>\n",
       "      <th>Order Date</th>\n",
       "      <th>Purchase Address</th>\n",
       "      <th>Month</th>\n",
       "      <th>Sales</th>\n",
       "      <th>Hour</th>\n",
       "      <th>Unit Price</th>\n",
       "      <th>Address_Number</th>\n",
       "      <th>Address_Street</th>\n",
       "      <th>Address_City</th>\n",
       "      <th>Address_State</th>\n",
       "      <th>Address_Zip_Code</th>\n",
       "      <th>Product Category</th>\n",
       "      <th>Unit Cost (€)</th>\n",
       "      <th>State</th>\n",
       "    </tr>\n",
       "  </thead>\n",
       "  <tbody>\n",
       "    <tr>\n",
       "      <th>93775</th>\n",
       "      <td>204987</td>\n",
       "      <td>ThinkPad Laptop</td>\n",
       "      <td>1</td>\n",
       "      <td>2019-05-29 20:45:00</td>\n",
       "      <td>453 Meadow St, San Francisco, CA 94016</td>\n",
       "      <td>5</td>\n",
       "      <td>999.99</td>\n",
       "      <td>20</td>\n",
       "      <td>999.99</td>\n",
       "      <td>453</td>\n",
       "      <td>Meadow St</td>\n",
       "      <td>san francisco</td>\n",
       "      <td>CA</td>\n",
       "      <td>94016</td>\n",
       "      <td>Laptops and Computers</td>\n",
       "      <td>1000</td>\n",
       "      <td>California</td>\n",
       "    </tr>\n",
       "  </tbody>\n",
       "</table>\n",
       "</div>"
      ],
      "text/plain": [
       "       Order ID          Product  Quantity Ordered           Order Date  \\\n",
       "93775    204987  ThinkPad Laptop                 1  2019-05-29 20:45:00   \n",
       "\n",
       "                             Purchase Address  Month   Sales  Hour  \\\n",
       "93775  453 Meadow St, San Francisco, CA 94016      5  999.99    20   \n",
       "\n",
       "       Unit Price  Address_Number Address_Street   Address_City Address_State  \\\n",
       "93775      999.99             453      Meadow St  san francisco            CA   \n",
       "\n",
       "       Address_Zip_Code       Product Category  Unit Cost (€)       State  \n",
       "93775             94016  Laptops and Computers           1000  California  "
      ]
     },
     "execution_count": 87,
     "metadata": {},
     "output_type": "execute_result"
    }
   ],
   "source": [
    "df_stats.sample()"
   ]
  },
  {
   "cell_type": "code",
   "execution_count": 88,
   "metadata": {},
   "outputs": [
    {
     "name": "stdout",
     "output_type": "stream",
     "text": [
      "34492035.97\n"
     ]
    }
   ],
   "source": [
    "#Total Revenue\n",
    "revenue=df_stats['Sales'].sum()\n",
    "print(revenue)"
   ]
  },
  {
   "cell_type": "code",
   "execution_count": 89,
   "metadata": {},
   "outputs": [
    {
     "name": "stdout",
     "output_type": "stream",
     "text": [
      "25493935\n"
     ]
    }
   ],
   "source": [
    "#Total Adquisition Cost\n",
    "adquisition_cost=(df_stats['Unit Cost (€)']*df_stats['Quantity Ordered']).sum()\n",
    "print(adquisition_cost)"
   ]
  },
  {
   "cell_type": "code",
   "execution_count": 90,
   "metadata": {},
   "outputs": [
    {
     "name": "stdout",
     "output_type": "stream",
     "text": [
      "8998100.969999999\n"
     ]
    }
   ],
   "source": [
    "## Gross Margin\n",
    "gross_margin=revenue-adquisition_cost\n",
    "print(gross_margin)"
   ]
  },
  {
   "cell_type": "code",
   "execution_count": 91,
   "metadata": {},
   "outputs": [],
   "source": [
    "##Nº Units sold\n",
    "units_sold= df_stats['Quantity Ordered'].sum()"
   ]
  },
  {
   "cell_type": "code",
   "execution_count": 92,
   "metadata": {},
   "outputs": [
    {
     "name": "stdout",
     "output_type": "stream",
     "text": [
      "164.97130735272313\n"
     ]
    }
   ],
   "source": [
    "# Avg Revenue per Unit\n",
    "avg_revenue_unit=revenue/units_sold\n",
    "print(avg_revenue_unit)"
   ]
  },
  {
   "cell_type": "code",
   "execution_count": 93,
   "metadata": {},
   "outputs": [
    {
     "name": "stdout",
     "output_type": "stream",
     "text": [
      "43.03684717259983\n"
     ]
    }
   ],
   "source": [
    "avg_gmargin_unit=gross_margin/units_sold\n",
    "print(avg_gmargin_unit)"
   ]
  },
  {
   "cell_type": "code",
   "execution_count": 94,
   "metadata": {},
   "outputs": [
    {
     "data": {
      "text/plain": [
       "8"
      ]
     },
     "execution_count": 94,
     "metadata": {},
     "output_type": "execute_result"
    }
   ],
   "source": [
    "# Nº States\n",
    "df_stats['State'].nunique()"
   ]
  },
  {
   "cell_type": "code",
   "execution_count": 95,
   "metadata": {},
   "outputs": [
    {
     "data": {
      "text/plain": [
       "9"
      ]
     },
     "execution_count": 95,
     "metadata": {},
     "output_type": "execute_result"
    }
   ],
   "source": [
    "# Nº Cities\n",
    "df_stats['Address_City'].nunique()"
   ]
  },
  {
   "cell_type": "markdown",
   "metadata": {},
   "source": [
    "The metrics are calculated and will be further validated with the Power BI results.\n",
    "As there have been changes in the dataframe it is exported to csv. This version is going to be used in the BI tool."
   ]
  },
  {
   "cell_type": "code",
   "execution_count": 98,
   "metadata": {},
   "outputs": [],
   "source": [
    "df_stats.to_csv('../data/Sales_BI.csv')"
   ]
  }
 ],
 "metadata": {
  "kernelspec": {
   "display_name": "ABTestPracticePy12",
   "language": "python",
   "name": "python3"
  },
  "language_info": {
   "codemirror_mode": {
    "name": "ipython",
    "version": 3
   },
   "file_extension": ".py",
   "mimetype": "text/x-python",
   "name": "python",
   "nbconvert_exporter": "python",
   "pygments_lexer": "ipython3",
   "version": "3.12.0"
  }
 },
 "nbformat": 4,
 "nbformat_minor": 2
}
