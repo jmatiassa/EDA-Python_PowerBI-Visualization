{
 "cells": [
  {
   "cell_type": "markdown",
   "metadata": {},
   "source": [
    "Before representing data into a bi platform there is going to be analised the relative impact of independent variables on sales."
   ]
  },
  {
   "cell_type": "markdown",
   "metadata": {},
   "source": [
    "ANOVA analysis of the categorical variables"
   ]
  },
  {
   "cell_type": "code",
   "execution_count": 45,
   "metadata": {},
   "outputs": [],
   "source": [
    "#Import libraries\n",
    "import pandas as pd\n",
    "import scipy.stats as stats\n",
    "\n",
    "#Import src\n",
    "import sys\n",
    "sys.path.append(\"..\")\n",
    "from src import src_transforming as ep"
   ]
  },
  {
   "cell_type": "code",
   "execution_count": 46,
   "metadata": {},
   "outputs": [],
   "source": [
    "df_stats=pd.read_csv('../data/DataMerged.csv',usecols=lambda col:not col.startswith('Unnamed'))"
   ]
  },
  {
   "cell_type": "code",
   "execution_count": 47,
   "metadata": {},
   "outputs": [
    {
     "data": {
      "text/plain": [
       "Index(['Order ID', 'Product', 'Quantity Ordered', 'Order Date',\n",
       "       'Purchase Address', 'Month', 'Sales', 'Hour', 'Unit Price',\n",
       "       'Address_Number', 'Address_Street', 'Address_City', 'Address_State',\n",
       "       'Address_Zip_Code', 'Product Category', 'Unit Cost (€)', 'Sate'],\n",
       "      dtype='object')"
      ]
     },
     "execution_count": 47,
     "metadata": {},
     "output_type": "execute_result"
    }
   ],
   "source": [
    "df_stats.columns"
   ]
  },
  {
   "cell_type": "code",
   "execution_count": 48,
   "metadata": {},
   "outputs": [
    {
     "data": {
      "text/plain": [
       "Index(['Order ID', 'Product', 'Quantity Ordered', 'Order Date',\n",
       "       'Purchase Address', 'Month', 'Sales', 'Hour', 'Unit Price',\n",
       "       'Address_Number', 'Address_Street', 'Address_City', 'Address_State',\n",
       "       'Address_Zip_Code', 'Product Category', 'Unit Cost (€)', 'State'],\n",
       "      dtype='object')"
      ]
     },
     "metadata": {},
     "output_type": "display_data"
    }
   ],
   "source": [
    "#Change column name from Sate to State\n",
    "ep.change_column_name(df_stats,'Sate','State')"
   ]
  },
  {
   "cell_type": "code",
   "execution_count": 49,
   "metadata": {},
   "outputs": [
    {
     "name": "stdout",
     "output_type": "stream",
     "text": [
      "<class 'pandas.core.frame.DataFrame'>\n",
      "RangeIndex: 185950 entries, 0 to 185949\n",
      "Data columns (total 17 columns):\n",
      " #   Column            Non-Null Count   Dtype  \n",
      "---  ------            --------------   -----  \n",
      " 0   Order ID          185950 non-null  int64  \n",
      " 1   Product           185950 non-null  object \n",
      " 2   Quantity Ordered  185950 non-null  int64  \n",
      " 3   Order Date        185950 non-null  object \n",
      " 4   Purchase Address  185950 non-null  object \n",
      " 5   Month             185950 non-null  int64  \n",
      " 6   Sales             185950 non-null  float64\n",
      " 7   Hour              185950 non-null  int64  \n",
      " 8   Unit Price        185950 non-null  float64\n",
      " 9   Address_Number    185950 non-null  int64  \n",
      " 10  Address_Street    185950 non-null  object \n",
      " 11  Address_City      185950 non-null  object \n",
      " 12  Address_State     185950 non-null  object \n",
      " 13  Address_Zip_Code  185950 non-null  int64  \n",
      " 14  Product Category  185950 non-null  object \n",
      " 15  Unit Cost (€)     185950 non-null  int64  \n",
      " 16  State             185950 non-null  object \n",
      "dtypes: float64(2), int64(7), object(8)\n",
      "memory usage: 24.1+ MB\n"
     ]
    }
   ],
   "source": [
    "df_stats.info()"
   ]
  },
  {
   "cell_type": "code",
   "execution_count": 50,
   "metadata": {},
   "outputs": [],
   "source": [
    "# Lista de variables categóricas\n",
    "columns = ['Product', 'Month', 'Hour', 'Address_City', 'State', 'Address_Zip_Code', 'Product Category']\n",
    "def anova_stats(df,categorical_vars):\n",
    "    # Diccionario para almacenar los resultados de ANOVA\n",
    "    anova_results = []\n",
    "\n",
    "    # Iterar sobre cada variable categórica y calcular ANOVA\n",
    "    for var in categorical_vars:\n",
    "        groups = [df[df[var] == cat]['Sales'] for cat in df[var].unique()]\n",
    "        \n",
    "        # Realizar ANOVA solo si hay al menos dos categorías con datos\n",
    "        if len(groups) > 1:\n",
    "            f_stat, p_value = stats.f_oneway(*groups)\n",
    "            significance = \"Significant\" if p_value < 0.05 else \"Not Significant\"\n",
    "            anova_results.append([var, p_value, significance])\n",
    "\n",
    "    # Convertir resultados en DataFrame y mostrar\n",
    "    anova_df = pd.DataFrame(anova_results, columns=['Variable', 'p-value', 'Significance'])\n",
    "    anova_df.to_csv('../data/anova_stats.csv')\n",
    "    print(anova_df)"
   ]
  },
  {
   "cell_type": "code",
   "execution_count": 51,
   "metadata": {},
   "outputs": [
    {
     "name": "stdout",
     "output_type": "stream",
     "text": [
      "           Variable   p-value     Significance\n",
      "0           Product  0.000000      Significant\n",
      "1             Month  0.342207  Not Significant\n",
      "2              Hour  0.019383      Significant\n",
      "3      Address_City  0.887222  Not Significant\n",
      "4             State  0.851620  Not Significant\n",
      "5  Address_Zip_Code  0.918387  Not Significant\n",
      "6  Product Category  0.000000      Significant\n"
     ]
    }
   ],
   "source": [
    "anova_stats(df_stats,columns)"
   ]
  },
  {
   "cell_type": "markdown",
   "metadata": {},
   "source": [
    "Conclussions of the analysis:\n",
    "- The type of product, product category and Hour have significative impact on the sales. Analysing these variables may have impact on optimizing the revenue"
   ]
  },
  {
   "cell_type": "code",
   "execution_count": null,
   "metadata": {},
   "outputs": [],
   "source": []
  },
  {
   "cell_type": "markdown",
   "metadata": {},
   "source": [
    "Dashboard design: This metrics are going to be calculated in Power Bi so that there can be skills proved in both analytical tools. However, it will be calculated in Pyton to validate the results. \n",
    "KPI: \n",
    "\n",
    "- Revenue\n",
    "- Adquisition Cost\n",
    "- Gross Margin\n",
    "- Nº Unts Sold\n",
    "- Avg Revenue per Unit\n",
    "- Avg Margin per Unit\n",
    "- Nº States\n",
    "- Nº Cities\n",
    "\n",
    "Distributions:\n",
    "\n",
    "- Temporal Evolution of Sales\n",
    "- Hourly Distribution of Sales\n",
    "- Distribution of Product category by Revenue and Gross Profit\n",
    "- Distribution of Product by Revenue and Gross Profit\n",
    "- Geographical distribution of Revenue and Gross Profit\n",
    "- Revenue and Gross Profit Map"
   ]
  },
  {
   "cell_type": "markdown",
   "metadata": {},
   "source": []
  },
  {
   "cell_type": "markdown",
   "metadata": {},
   "source": [
    "## Metrics"
   ]
  },
  {
   "cell_type": "code",
   "execution_count": 52,
   "metadata": {},
   "outputs": [
    {
     "data": {
      "text/html": [
       "<div>\n",
       "<style scoped>\n",
       "    .dataframe tbody tr th:only-of-type {\n",
       "        vertical-align: middle;\n",
       "    }\n",
       "\n",
       "    .dataframe tbody tr th {\n",
       "        vertical-align: top;\n",
       "    }\n",
       "\n",
       "    .dataframe thead th {\n",
       "        text-align: right;\n",
       "    }\n",
       "</style>\n",
       "<table border=\"1\" class=\"dataframe\">\n",
       "  <thead>\n",
       "    <tr style=\"text-align: right;\">\n",
       "      <th></th>\n",
       "      <th>Order ID</th>\n",
       "      <th>Product</th>\n",
       "      <th>Quantity Ordered</th>\n",
       "      <th>Order Date</th>\n",
       "      <th>Purchase Address</th>\n",
       "      <th>Month</th>\n",
       "      <th>Sales</th>\n",
       "      <th>Hour</th>\n",
       "      <th>Unit Price</th>\n",
       "      <th>Address_Number</th>\n",
       "      <th>Address_Street</th>\n",
       "      <th>Address_City</th>\n",
       "      <th>Address_State</th>\n",
       "      <th>Address_Zip_Code</th>\n",
       "      <th>Product Category</th>\n",
       "      <th>Unit Cost (€)</th>\n",
       "      <th>State</th>\n",
       "    </tr>\n",
       "  </thead>\n",
       "  <tbody>\n",
       "    <tr>\n",
       "      <th>158364</th>\n",
       "      <td>223162</td>\n",
       "      <td>Wired Headphones</td>\n",
       "      <td>1</td>\n",
       "      <td>2019-07-06 19:57:00</td>\n",
       "      <td>453 Madison St, Portland, OR 97035</td>\n",
       "      <td>7</td>\n",
       "      <td>11.99</td>\n",
       "      <td>19</td>\n",
       "      <td>11.99</td>\n",
       "      <td>453</td>\n",
       "      <td>Madison St</td>\n",
       "      <td>portland</td>\n",
       "      <td>OR</td>\n",
       "      <td>97035</td>\n",
       "      <td>Headphones and Earbuds</td>\n",
       "      <td>8</td>\n",
       "      <td>Oregón</td>\n",
       "    </tr>\n",
       "  </tbody>\n",
       "</table>\n",
       "</div>"
      ],
      "text/plain": [
       "        Order ID           Product  Quantity Ordered           Order Date  \\\n",
       "158364    223162  Wired Headphones                 1  2019-07-06 19:57:00   \n",
       "\n",
       "                          Purchase Address  Month  Sales  Hour  Unit Price  \\\n",
       "158364  453 Madison St, Portland, OR 97035      7  11.99    19       11.99   \n",
       "\n",
       "        Address_Number Address_Street Address_City Address_State  \\\n",
       "158364             453     Madison St     portland            OR   \n",
       "\n",
       "        Address_Zip_Code        Product Category  Unit Cost (€)   State  \n",
       "158364             97035  Headphones and Earbuds              8  Oregón  "
      ]
     },
     "execution_count": 52,
     "metadata": {},
     "output_type": "execute_result"
    }
   ],
   "source": [
    "df_stats.sample()"
   ]
  },
  {
   "cell_type": "code",
   "execution_count": 53,
   "metadata": {},
   "outputs": [
    {
     "name": "stdout",
     "output_type": "stream",
     "text": [
      "34492035.97\n"
     ]
    }
   ],
   "source": [
    "#Total Revenue\n",
    "revenue=df_stats['Sales'].sum()\n",
    "print(revenue)"
   ]
  },
  {
   "cell_type": "code",
   "execution_count": 54,
   "metadata": {},
   "outputs": [
    {
     "name": "stdout",
     "output_type": "stream",
     "text": [
      "25000056\n"
     ]
    }
   ],
   "source": [
    "#Total Adquisition Cost\n",
    "adquisition_cost=(df_stats['Unit Cost (€)']*df_stats['Quantity Ordered']).sum()\n",
    "print(adquisition_cost)"
   ]
  },
  {
   "cell_type": "code",
   "execution_count": 55,
   "metadata": {},
   "outputs": [
    {
     "name": "stdout",
     "output_type": "stream",
     "text": [
      "9491979.969999999\n"
     ]
    }
   ],
   "source": [
    "## Gross Margin\n",
    "gross_margin=revenue-adquisition_cost\n",
    "print(gross_margin)"
   ]
  },
  {
   "cell_type": "code",
   "execution_count": 56,
   "metadata": {},
   "outputs": [],
   "source": [
    "##Nº Units sold\n",
    "units_sold= df_stats['Quantity Ordered'].sum()"
   ]
  },
  {
   "cell_type": "code",
   "execution_count": 57,
   "metadata": {},
   "outputs": [
    {
     "name": "stdout",
     "output_type": "stream",
     "text": [
      "164.97130735272313\n"
     ]
    }
   ],
   "source": [
    "# Avg Revenue per Unit\n",
    "avg_revenue_unit=revenue/units_sold\n",
    "print(avg_revenue_unit)"
   ]
  },
  {
   "cell_type": "code",
   "execution_count": 58,
   "metadata": {},
   "outputs": [
    {
     "name": "stdout",
     "output_type": "stream",
     "text": [
      "45.39901171327584\n"
     ]
    }
   ],
   "source": [
    "avg_gmargin_unit=gross_margin/units_sold\n",
    "print(avg_gmargin_unit)"
   ]
  },
  {
   "cell_type": "code",
   "execution_count": 59,
   "metadata": {},
   "outputs": [
    {
     "data": {
      "text/plain": [
       "8"
      ]
     },
     "execution_count": 59,
     "metadata": {},
     "output_type": "execute_result"
    }
   ],
   "source": [
    "# Nº States\n",
    "df_stats['State'].nunique()"
   ]
  },
  {
   "cell_type": "code",
   "execution_count": 60,
   "metadata": {},
   "outputs": [
    {
     "data": {
      "text/plain": [
       "9"
      ]
     },
     "execution_count": 60,
     "metadata": {},
     "output_type": "execute_result"
    }
   ],
   "source": [
    "# Nº Cities\n",
    "df_stats['Address_City'].nunique()"
   ]
  },
  {
   "cell_type": "markdown",
   "metadata": {},
   "source": [
    "The metrics are calculated and will be further validated with the Power BI results.\n",
    "As there have been changes in the dataframe it is exported to csv. This version is going to be used in the BI tool."
   ]
  },
  {
   "cell_type": "code",
   "execution_count": 61,
   "metadata": {},
   "outputs": [],
   "source": [
    "df_stats.to_csv('../data/Sales_BI.csv')"
   ]
  },
  {
   "cell_type": "code",
   "execution_count": 62,
   "metadata": {},
   "outputs": [
    {
     "data": {
      "text/html": [
       "<div>\n",
       "<style scoped>\n",
       "    .dataframe tbody tr th:only-of-type {\n",
       "        vertical-align: middle;\n",
       "    }\n",
       "\n",
       "    .dataframe tbody tr th {\n",
       "        vertical-align: top;\n",
       "    }\n",
       "\n",
       "    .dataframe thead th {\n",
       "        text-align: right;\n",
       "    }\n",
       "</style>\n",
       "<table border=\"1\" class=\"dataframe\">\n",
       "  <thead>\n",
       "    <tr style=\"text-align: right;\">\n",
       "      <th></th>\n",
       "      <th>Order ID</th>\n",
       "      <th>Product</th>\n",
       "      <th>Quantity Ordered</th>\n",
       "      <th>Order Date</th>\n",
       "      <th>Purchase Address</th>\n",
       "      <th>Month</th>\n",
       "      <th>Sales</th>\n",
       "      <th>Hour</th>\n",
       "      <th>Unit Price</th>\n",
       "      <th>Address_Number</th>\n",
       "      <th>Address_Street</th>\n",
       "      <th>Address_City</th>\n",
       "      <th>Address_State</th>\n",
       "      <th>Address_Zip_Code</th>\n",
       "      <th>Product Category</th>\n",
       "      <th>Unit Cost (€)</th>\n",
       "      <th>State</th>\n",
       "    </tr>\n",
       "  </thead>\n",
       "  <tbody>\n",
       "    <tr>\n",
       "      <th>0</th>\n",
       "      <td>295665</td>\n",
       "      <td>Macbook Pro Laptop</td>\n",
       "      <td>1</td>\n",
       "      <td>2019-12-30 00:01:00</td>\n",
       "      <td>136 Church St, New York City, NY 10001</td>\n",
       "      <td>12</td>\n",
       "      <td>1700.00</td>\n",
       "      <td>0</td>\n",
       "      <td>1700.00</td>\n",
       "      <td>136</td>\n",
       "      <td>Church St</td>\n",
       "      <td>new york city</td>\n",
       "      <td>NY</td>\n",
       "      <td>10001</td>\n",
       "      <td>Laptops and Computers</td>\n",
       "      <td>1300</td>\n",
       "      <td>Nueva York</td>\n",
       "    </tr>\n",
       "    <tr>\n",
       "      <th>1</th>\n",
       "      <td>295666</td>\n",
       "      <td>LG Washing Machine</td>\n",
       "      <td>1</td>\n",
       "      <td>2019-12-29 07:03:00</td>\n",
       "      <td>562 2nd St, New York City, NY 10001</td>\n",
       "      <td>12</td>\n",
       "      <td>600.00</td>\n",
       "      <td>7</td>\n",
       "      <td>600.00</td>\n",
       "      <td>562</td>\n",
       "      <td>2nd St</td>\n",
       "      <td>new york city</td>\n",
       "      <td>NY</td>\n",
       "      <td>10001</td>\n",
       "      <td>Home Appliances</td>\n",
       "      <td>450</td>\n",
       "      <td>Nueva York</td>\n",
       "    </tr>\n",
       "    <tr>\n",
       "      <th>2</th>\n",
       "      <td>295667</td>\n",
       "      <td>USB-C Charging Cable</td>\n",
       "      <td>1</td>\n",
       "      <td>2019-12-12 18:21:00</td>\n",
       "      <td>277 Main St, New York City, NY 10001</td>\n",
       "      <td>12</td>\n",
       "      <td>11.95</td>\n",
       "      <td>18</td>\n",
       "      <td>11.95</td>\n",
       "      <td>277</td>\n",
       "      <td>Main St</td>\n",
       "      <td>new york city</td>\n",
       "      <td>NY</td>\n",
       "      <td>10001</td>\n",
       "      <td>Accessories</td>\n",
       "      <td>6</td>\n",
       "      <td>Nueva York</td>\n",
       "    </tr>\n",
       "    <tr>\n",
       "      <th>3</th>\n",
       "      <td>295668</td>\n",
       "      <td>27in FHD Monitor</td>\n",
       "      <td>1</td>\n",
       "      <td>2019-12-22 15:13:00</td>\n",
       "      <td>410 6th St, San Francisco, CA 94016</td>\n",
       "      <td>12</td>\n",
       "      <td>149.99</td>\n",
       "      <td>15</td>\n",
       "      <td>149.99</td>\n",
       "      <td>410</td>\n",
       "      <td>6th St</td>\n",
       "      <td>san francisco</td>\n",
       "      <td>CA</td>\n",
       "      <td>94016</td>\n",
       "      <td>Computer Monitors</td>\n",
       "      <td>110</td>\n",
       "      <td>California</td>\n",
       "    </tr>\n",
       "    <tr>\n",
       "      <th>4</th>\n",
       "      <td>295669</td>\n",
       "      <td>USB-C Charging Cable</td>\n",
       "      <td>1</td>\n",
       "      <td>2019-12-18 12:38:00</td>\n",
       "      <td>43 Hill St, Atlanta, GA 30301</td>\n",
       "      <td>12</td>\n",
       "      <td>11.95</td>\n",
       "      <td>12</td>\n",
       "      <td>11.95</td>\n",
       "      <td>43</td>\n",
       "      <td>Hill St</td>\n",
       "      <td>atlanta</td>\n",
       "      <td>GA</td>\n",
       "      <td>30301</td>\n",
       "      <td>Accessories</td>\n",
       "      <td>6</td>\n",
       "      <td>Georgia</td>\n",
       "    </tr>\n",
       "  </tbody>\n",
       "</table>\n",
       "</div>"
      ],
      "text/plain": [
       "   Order ID               Product  Quantity Ordered           Order Date  \\\n",
       "0    295665    Macbook Pro Laptop                 1  2019-12-30 00:01:00   \n",
       "1    295666    LG Washing Machine                 1  2019-12-29 07:03:00   \n",
       "2    295667  USB-C Charging Cable                 1  2019-12-12 18:21:00   \n",
       "3    295668      27in FHD Monitor                 1  2019-12-22 15:13:00   \n",
       "4    295669  USB-C Charging Cable                 1  2019-12-18 12:38:00   \n",
       "\n",
       "                         Purchase Address  Month    Sales  Hour  Unit Price  \\\n",
       "0  136 Church St, New York City, NY 10001     12  1700.00     0     1700.00   \n",
       "1     562 2nd St, New York City, NY 10001     12   600.00     7      600.00   \n",
       "2    277 Main St, New York City, NY 10001     12    11.95    18       11.95   \n",
       "3     410 6th St, San Francisco, CA 94016     12   149.99    15      149.99   \n",
       "4           43 Hill St, Atlanta, GA 30301     12    11.95    12       11.95   \n",
       "\n",
       "   Address_Number Address_Street   Address_City Address_State  \\\n",
       "0             136      Church St  new york city            NY   \n",
       "1             562         2nd St  new york city            NY   \n",
       "2             277        Main St  new york city            NY   \n",
       "3             410         6th St  san francisco            CA   \n",
       "4              43        Hill St        atlanta            GA   \n",
       "\n",
       "   Address_Zip_Code       Product Category  Unit Cost (€)       State  \n",
       "0             10001  Laptops and Computers           1300  Nueva York  \n",
       "1             10001        Home Appliances            450  Nueva York  \n",
       "2             10001            Accessories              6  Nueva York  \n",
       "3             94016      Computer Monitors            110  California  \n",
       "4             30301            Accessories              6     Georgia  "
      ]
     },
     "execution_count": 62,
     "metadata": {},
     "output_type": "execute_result"
    }
   ],
   "source": [
    "df_stats.head()"
   ]
  }
 ],
 "metadata": {
  "kernelspec": {
   "display_name": "ABTestPracticePy12",
   "language": "python",
   "name": "python3"
  },
  "language_info": {
   "codemirror_mode": {
    "name": "ipython",
    "version": 3
   },
   "file_extension": ".py",
   "mimetype": "text/x-python",
   "name": "python",
   "nbconvert_exporter": "python",
   "pygments_lexer": "ipython3",
   "version": "3.12.0"
  }
 },
 "nbformat": 4,
 "nbformat_minor": 2
}
